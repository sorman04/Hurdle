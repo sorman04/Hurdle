{
 "cells": [
  {
   "cell_type": "code",
   "execution_count": 3,
   "metadata": {},
   "outputs": [],
   "source": [
    "import numpy as np\n",
    "import pandas as pd"
   ]
  },
  {
   "cell_type": "code",
   "execution_count": null,
   "metadata": {},
   "outputs": [],
   "source": [
    "import statsmodels.discrete.truncated_model as smtc\n",
    "\n",
    "from statsmodels.discrete.discrete_model import (\n",
    "    Poisson, NegativeBinomial, NegativeBinomialP, GeneralizedPoisson)\n",
    "\n",
    "from statsmodels.discrete.count_model import (\n",
    "    ZeroInflatedPoisson,\n",
    "    ZeroInflatedGeneralizedPoisson,\n",
    "    ZeroInflatedNegativeBinomialP\n",
    "    )\n",
    "\n",
    "from statsmodels.discrete.truncated_model import (\n",
    "    TruncatedLFPoisson,\n",
    "    TruncatedLFNegativeBinomialP,\n",
    "    _RCensoredPoisson,\n",
    "    HurdleCountModel,\n",
    "    )"
   ]
  },
  {
   "cell_type": "code",
   "execution_count": 4,
   "metadata": {},
   "outputs": [],
   "source": [
    "np.random.seed(987456348)\n",
    "# large sample to get strong results\n",
    "nobs = 5000\n",
    "x = np.column_stack((np.ones(nobs), np.linspace(0, 1, nobs)))"
   ]
  },
  {
   "cell_type": "code",
   "execution_count": 8,
   "metadata": {},
   "outputs": [
    {
     "data": {
      "text/plain": [
       "array([2.71828183, 2.71882565, 2.71936958, ..., 7.38610048, 7.38757814,\n",
       "       7.3890561 ])"
      ]
     },
     "execution_count": 8,
     "metadata": {},
     "output_type": "execute_result"
    }
   ],
   "source": [
    "mu0 = np.exp(0.5 *2 * x.sum(1))"
   ]
  },
  {
   "cell_type": "code",
   "execution_count": 9,
   "metadata": {},
   "outputs": [],
   "source": [
    "y = np.random.poisson(mu0, size=nobs)\n"
   ]
  },
  {
   "cell_type": "code",
   "execution_count": 10,
   "metadata": {},
   "outputs": [
    {
     "name": "stdout",
     "output_type": "stream",
     "text": [
      "[102 335 590 770 816 739 573 402 265 176 116  59  35   7  11   4]\n"
     ]
    }
   ],
   "source": [
    "print(np.bincount(y))"
   ]
  },
  {
   "cell_type": "code",
   "execution_count": null,
   "metadata": {},
   "outputs": [],
   "source": []
  }
 ],
 "metadata": {
  "kernelspec": {
   "display_name": "Python 3.9.12 ('base')",
   "language": "python",
   "name": "python3"
  },
  "language_info": {
   "codemirror_mode": {
    "name": "ipython",
    "version": 3
   },
   "file_extension": ".py",
   "mimetype": "text/x-python",
   "name": "python",
   "nbconvert_exporter": "python",
   "pygments_lexer": "ipython3",
   "version": "3.9.12"
  },
  "orig_nbformat": 4,
  "vscode": {
   "interpreter": {
    "hash": "86fd81cc215c214dd240311be0b1504bb75d5b4c414b4263f8c065f86acc0afa"
   }
  }
 },
 "nbformat": 4,
 "nbformat_minor": 2
}
